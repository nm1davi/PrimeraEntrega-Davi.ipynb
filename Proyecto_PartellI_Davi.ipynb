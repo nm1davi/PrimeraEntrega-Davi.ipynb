{
  "nbformat": 4,
  "nbformat_minor": 0,
  "metadata": {
    "colab": {
      "provenance": [],
      "authorship_tag": "ABX9TyOi4LofdGdjI+43SBTs6+r2",
      "include_colab_link": true
    },
    "kernelspec": {
      "name": "python3",
      "display_name": "Python 3"
    },
    "language_info": {
      "name": "python"
    }
  },
  "cells": [
    {
      "cell_type": "markdown",
      "metadata": {
        "id": "view-in-github",
        "colab_type": "text"
      },
      "source": [
        "<a href=\"https://colab.research.google.com/github/nm1davi/PrimeraEntrega-Davi.ipynb/blob/main/Proyecto_PartellI_Davi.ipynb\" target=\"_parent\"><img src=\"https://colab.research.google.com/assets/colab-badge.svg\" alt=\"Open In Colab\"/></a>"
      ]
    },
    {
      "cell_type": "code",
      "source": [
        "! pip install chart_studio\n",
        "! pip install bqplot\n",
        "! pip install pingouin\n",
        "!pip install mlxtend "
      ],
      "metadata": {
        "id": "dMAgW3HyAIwW"
      },
      "execution_count": null,
      "outputs": []
    },
    {
      "cell_type": "code",
      "execution_count": null,
      "metadata": {
        "id": "pg0AcofR-_lC"
      },
      "outputs": [],
      "source": [
        "import pandas                  as pd\n",
        "from   scipy import stats\n",
        "import numpy                   as np\n",
        "import matplotlib.pyplot       as plt\n",
        "import seaborn                 as sns\n",
        "import statsmodels.formula.api as sm\n",
        "import chart_studio.plotly     as py\n",
        "import os\n",
        "from bokeh.resources import INLINE\n",
        "import bokeh.io\n",
        "from bokeh import *\n",
        "import pingouin\n",
        "bokeh.io.output_notebook(INLINE)"
      ]
    },
    {
      "cell_type": "code",
      "source": [
        "import sys\n",
        "import joblib\n",
        "sys.modules['sklearn.externals.joblib'] = joblib"
      ],
      "metadata": {
        "id": "4HVRUWTZBqn2"
      },
      "execution_count": null,
      "outputs": []
    },
    {
      "cell_type": "markdown",
      "source": [
        "#**Introduccion:**\n",
        "\n",
        "**Contexto empresarial**: A la hora de formar clubes, o empresas de ESPORTS \n",
        "(DEPORTES ELECTRONICOS) se tienen en cuenta distintos aspectos de los jugadores que contrartaran, alguno de ellos son, cantidad de horas jugadas en el ESPORTS en la que la empresa desea destacarse, habilidades mentales, como los reflejos, la reaccion antes la frustracion y otros. Una vez seleccionado los jugadores que se desarrollaran en competencia con otras empresas o clubes, llega la hora de en este caso, armar un equipo de futbol competitivo en el Juego FIFA 23, para competir a niven nacional o mundial.\n",
        "\n",
        "**Problema (Planteo de Hipotesis)**: El principal problema al que se enfrentan los clubes de ESPORTS es la parte economica, porque ademas de tener que pagarles a sus jugadores por jugar para ellos y entrenar todos los dias, en este juego (FIFA) los equipos se forman apartir de cartas de jugadores o jugadoras que tienen que comprarse en un mercado de Fifa donde se paga con Fifa Points que equivale a la moneda real en forma virtual. Entonces la hipotesis que puedo plantear seria: \"¿Que jugador/jugadora compramos para armar un equipo que sea competitivo?\"\n",
        "Esta hipotesis seria demasiada amplia para responder porque hay demasiadas variables que entran en juego, por lo tanto para achicar un poco el marjen consultamos a los jugarodes profesionales de Fifa y ellos respondieron que la pregunta seria: **¿Cuales son los jugadores que mejor media tienen en el momento actual y que expectativa hay en un futuro, respecto a esa media, es decir su potencial, respecto a su edad?** Ya que la carta se puede comprar una o mas veces, pero si ya la adquirieron en un primer momento, no hace falta que la compre cuando su precio suba respecto a que el jugador/jugadora aumento en un media.\n",
        "\n",
        "**Contexto analítico**: Se le proporciona un archivo CSV (almacenado en la carpeta datos ya creada) que contiene detalles sobre *Jugadores de FIFA 22*:\n",
        "*   **Edad** (age)\n",
        "*   **Media** (overall)\n",
        "*   **Potencial** (potential)\n",
        "*   **Value_euro** (valor en euro)\n",
        "*   **Nationality_name** (Nacionalidad)\n",
        "*   **Preferred_foot** (Preferencia de Pie)\n",
        "\n",
        "\n",
        "Las empresas de ESPORTS tiene un conjunto específico de preguntas a las que le gustaría obtener respuestas. Que podremos responder apartir de analizar algunos gráficos:\n",
        "\n",
        "1- ¿Cuál es el promedio de media(overall) de los jugadores de FIFA 22?\n",
        "\n",
        "2- ¿Cómo conviene invertir  dinero en cartas, comprar jugadores mas jovenes o jugadores con mejor media?\n",
        "\n",
        "3- ¿Que es mas costoso, un jugador joven, o un jugador de media actual elevada?\n",
        "\n",
        "4-¿Cuál es el pie predominante entre los jugadores?\n",
        "\n",
        "5- ¿Cuáles son los países con mayor representación en los datos?\n",
        "\n",
        "6- ¿Cuáles son las posiciones de jugador más comunes?\n",
        "\n",
        "7- ¿Quiénes son los jugadores mejor pagados?\n",
        "\n",
        "8- ¿Quiénes son los mejores jugadores en general?"
      ],
      "metadata": {
        "id": "zc9gPOkDB889"
      }
    },
    {
      "cell_type": "code",
      "source": [
        "!pip install -U -q PyDrive\n",
        "from pydrive.auth import GoogleAuth\n",
        "from pydrive.drive import GoogleDrive\n",
        "from google.colab import auth\n",
        "from  oauth2client.client import  GoogleCredentials\n"
      ],
      "metadata": {
        "id": "3uUr_M0KMtA8"
      },
      "execution_count": null,
      "outputs": []
    },
    {
      "cell_type": "code",
      "source": [
        "auth.authenticate_user()\n",
        "gauth = GoogleAuth()\n",
        "gauth.credentials= GoogleCredentials.get_application_default()\n",
        "drive = GoogleDrive(gauth)\n",
        " \n",
        "downloaded = drive.CreateFile({\"id\" : \"1pR7bGTeLIP6CvRVABlsy5hXSRVVl4Nvv\"})\n",
        "downloaded.GetContentFile(\"players_22.csv\")"
      ],
      "metadata": {
        "id": "GMRWNcsiQL0H"
      },
      "execution_count": null,
      "outputs": []
    },
    {
      "cell_type": "code",
      "source": [
        "df= pd.read_csv(\"players_22.csv\")"
      ],
      "metadata": {
        "id": "yyzRymI_Hf6T",
        "colab": {
          "base_uri": "https://localhost:8080/"
        },
        "outputId": "494b01a1-a08f-49c7-8b5c-a9048444c287"
      },
      "execution_count": null,
      "outputs": [
        {
          "output_type": "stream",
          "name": "stderr",
          "text": [
            "/usr/local/lib/python3.7/dist-packages/IPython/core/interactiveshell.py:3326: DtypeWarning: Columns (25,108) have mixed types.Specify dtype option on import or set low_memory=False.\n",
            "  exec(code_obj, self.user_global_ns, self.user_ns)\n"
          ]
        }
      ]
    },
    {
      "cell_type": "markdown",
      "source": [
        "# Feature Selection\n",
        "\n",
        "Al comienzo trabajamos con muchos datos, lo cual es innecesario, ya que muchos de esos datos nos obstruyen, y no nos dejan trabajar comodos. Ademas que tenemos menos precision (accuracy), y nos trabaja mas lento nuetro machine learning. Por ende, solamente vamos a utilizar los datos que verdaderemente nos interesa analizar para sacar concluciones."
      ],
      "metadata": {
        "id": "vEPhScVxOB0K"
      }
    },
    {
      "cell_type": "markdown",
      "source": [
        "Al comienzo podemos ver que nos cuenta (**originalFeatures count 110**) 110 caracteristicas."
      ],
      "metadata": {
        "id": "fCJVgRn7lheU"
      }
    },
    {
      "cell_type": "code",
      "source": [
        "originalFeatures =df.columns\n",
        "print(\"CaracterisitcasOriginales cuenta\", len(originalFeatures))\n",
        "print(\"CaracterisitcasOriginales \", originalFeatures)\n",
        "print(df.head())"
      ],
      "metadata": {
        "id": "7AwIsaWcTyG9"
      },
      "execution_count": null,
      "outputs": []
    },
    {
      "cell_type": "code",
      "source": [
        "print(len(originalFeatures))"
      ],
      "metadata": {
        "id": "M7HkDKMlqDQq"
      },
      "execution_count": null,
      "outputs": []
    },
    {
      "cell_type": "code",
      "source": [
        "df.info(verbose= True,show_counts=True) "
      ],
      "metadata": {
        "id": "8l-YTp6ZqNNQ"
      },
      "execution_count": null,
      "outputs": []
    },
    {
      "cell_type": "markdown",
      "source": [
        "Luego de una trabajosa limpieza. Nos quedan los datos mas **relevantes**"
      ],
      "metadata": {
        "id": "9T_bsR_Pl3S4"
      }
    },
    {
      "cell_type": "code",
      "source": [
        "drops =[\"sofifa_id\", \"player_url\",\"player_positions\",\"wage_eur\",\"dob\",\"height_cm\",\"weight_kg\",\"club_team_id\",\"club_name\",\"league_name\",\"league_level\",\"club_position\",\"club_jersey_number\",\"club_loaned_from\",\n",
        "        \"club_joined\",\"club_contract_valid_until\",\"nationality_id\",\"nation_team_id\",\"nation_position\",\"nation_jersey_number\",\"weak_foot\",\"skill_moves\",\"international_reputation\",\"work_rate\",\"body_type\",\"real_face\",\"release_clause_eur\",\n",
        "        \"player_tags\",\"player_traits\",\"pace\",\"shooting\",\"passing\",\"dribbling\",\"defending\",\"physic\",\"attacking_crossing\",\"attacking_finishing\",\"attacking_heading_accuracy\",\"attacking_short_passing\",\"attacking_volleys\",\"skill_dribbling\",\"skill_curve\",\n",
        "        \"skill_fk_accuracy\",\"skill_long_passing\",\"skill_ball_control\",\"movement_acceleration\",\"movement_sprint_speed\",\"movement_agility\",\"movement_reactions\",\"movement_balance\",\"power_shot_power\",\"power_jumping\",\"power_stamina\",\n",
        "        \"power_strength\",\"power_long_shots\",\"mentality_aggression\",\"mentality_interceptions\",\"mentality_positioning\",\"mentality_vision\",\"mentality_penalties\",\"mentality_composure\",\"defending_marking_awareness\",\"defending_standing_tackle\",\"defending_sliding_tackle\",\n",
        "        \"goalkeeping_diving\",\"goalkeeping_handling\",\"goalkeeping_kicking\",\"goalkeeping_positioning\",\"goalkeeping_reflexes\",\"goalkeeping_speed\",\"ls\",\"st\",\"rs\",\"lw\",\"lf\",\"cf\",\"rf\",\"rw\",\"lam\",\"cam\",\"ram\",\"lm\",\"lcm\",\"cm\",\"rcm\",\"rm\",\"lwb\",\"ldm\",\"cdm\",\"rdm\",\n",
        "        \"rwb\",\"lb\",\"lcb\",\"cb\",\"rcb\",\"rb\",\"gk\",\"player_face_url\",\"club_logo_url\",\"nation_logo_url\",\"nation_flag_url\",\"club_flag_url\"]\n",
        "for drop in drops:\n",
        "  df = df.drop(drop,1)"
      ],
      "metadata": {
        "colab": {
          "base_uri": "https://localhost:8080/"
        },
        "id": "gTL680D-Vh5L",
        "outputId": "86f455e0-7fcd-4542-c45d-bc50a4e0c913"
      },
      "execution_count": null,
      "outputs": [
        {
          "output_type": "stream",
          "name": "stderr",
          "text": [
            "/usr/local/lib/python3.7/dist-packages/ipykernel_launcher.py:9: FutureWarning: In a future version of pandas all arguments of DataFrame.drop except for the argument 'labels' will be keyword-only\n",
            "  if __name__ == '__main__':\n"
          ]
        }
      ]
    },
    {
      "cell_type": "code",
      "source": [
        "df.head()"
      ],
      "metadata": {
        "id": "Yb47NPFGvsEF"
      },
      "execution_count": null,
      "outputs": []
    },
    {
      "cell_type": "markdown",
      "source": [
        "Y vemos que pasamos de tener 8 Caracteristicas originales que son las que planteamos en nuestra **Hipotesis**. Asi trabajaremos de una manera mas **comoda** y **limpia** a la hora de visualizar datos y caracteristicas."
      ],
      "metadata": {
        "id": "wvcIPGTqmU_x"
      }
    },
    {
      "cell_type": "code",
      "source": [
        "print(\"CaracteristicasOriginales\", len(originalFeatures), len(df.columns))\n",
        "print(df.head())"
      ],
      "metadata": {
        "id": "rzavVaHmWsM5"
      },
      "execution_count": null,
      "outputs": []
    },
    {
      "cell_type": "code",
      "source": [
        "drops =[\"short_name\",\"long_name\",\"nationality_name\",\"preferred_foot\"]\n",
        "for drop in drops:\n",
        "  df = df.drop(drop,1)"
      ],
      "metadata": {
        "colab": {
          "base_uri": "https://localhost:8080/"
        },
        "id": "3kk7qc80u2s3",
        "outputId": "da4b6ed0-fed6-49a3-b6b8-280da574fdaf"
      },
      "execution_count": null,
      "outputs": [
        {
          "output_type": "stream",
          "name": "stderr",
          "text": [
            "/usr/local/lib/python3.7/dist-packages/ipykernel_launcher.py:3: FutureWarning: In a future version of pandas all arguments of DataFrame.drop except for the argument 'labels' will be keyword-only\n",
            "  This is separate from the ipykernel package so we can avoid doing imports until\n"
          ]
        }
      ]
    },
    {
      "cell_type": "code",
      "source": [
        "df.head()"
      ],
      "metadata": {
        "id": "-k-Y8oLcvjEB"
      },
      "execution_count": null,
      "outputs": []
    },
    {
      "cell_type": "code",
      "source": [
        "X = df.drop(\"value_eur\", 1)     \n",
        "y = df['value_eur']               \n",
        "df.head()"
      ],
      "metadata": {
        "id": "yzKE2jiowBFN"
      },
      "execution_count": null,
      "outputs": []
    },
    {
      "cell_type": "code",
      "source": [
        "X"
      ],
      "metadata": {
        "id": "O-hOwXC3wNW3"
      },
      "execution_count": null,
      "outputs": []
    },
    {
      "cell_type": "code",
      "source": [
        "y"
      ],
      "metadata": {
        "id": "BXxe5j1bwQ9B"
      },
      "execution_count": null,
      "outputs": []
    },
    {
      "cell_type": "code",
      "source": [
        "import statsmodels.api as sm\n",
        "def forward_selection(data, target, significance_level=0.01):\n",
        "    initial_features = data.columns.tolist()\n",
        "    best_features = []\n",
        "    while (len(initial_features)>0):\n",
        "        remaining_features = list(set(initial_features)-set(best_features))\n",
        "        new_pval = pd.Series(index=remaining_features)\n",
        "        for new_column in remaining_features:\n",
        "            model = sm.OLS(target, sm.add_constant(data[best_features+[new_column]])).fit()\n",
        "            new_pval[new_column] = model.pvalues[new_column]\n",
        "        min_p_value = new_pval.min()\n",
        "        if(min_p_value<significance_level):\n",
        "            best_features.append(new_pval.idxmin())\n",
        "        else:\n",
        "            break\n",
        "    return best_features"
      ],
      "metadata": {
        "id": "gmGbBFlQwU2J"
      },
      "execution_count": null,
      "outputs": []
    },
    {
      "cell_type": "code",
      "source": [
        "forward_selection(X,y)"
      ],
      "metadata": {
        "colab": {
          "base_uri": "https://localhost:8080/"
        },
        "id": "p3cggFHSwVyH",
        "outputId": "4815e70f-00bc-4617-e893-3d8ea1e99531"
      },
      "execution_count": null,
      "outputs": [
        {
          "output_type": "stream",
          "name": "stderr",
          "text": [
            "/usr/local/lib/python3.7/dist-packages/ipykernel_launcher.py:7: DeprecationWarning: The default dtype for empty Series will be 'object' instead of 'float64' in a future version. Specify a dtype explicitly to silence this warning.\n",
            "  import sys\n"
          ]
        },
        {
          "output_type": "execute_result",
          "data": {
            "text/plain": [
              "[]"
            ]
          },
          "metadata": {},
          "execution_count": 158
        }
      ]
    },
    {
      "cell_type": "markdown",
      "source": [
        "**1- ¿Cuál es el promedio de media(overall) de los jugadores de FIFA 22?**\n",
        "\n",
        "Podemos observar que la mayoria la media de casi todo los jugadores rondan entre 65 y 75, justamente por eso es más dificil y  más caro conseguri cartas de jugadores con medias altas, porque hay menos. "
      ],
      "metadata": {
        "id": "EPDj0e1ryN3t"
      }
    },
    {
      "cell_type": "code",
      "source": [
        "plt.hist(df[\"overall\"],30 , color=\"blue\", ec= \"black\" )\n",
        "# plt.title(\"Frequency vs. Overall\", fontsize=20, verticalalignment='bottom');\n",
        "plt.xlabel(\"Overall\")\n",
        "# plt.ylabel(\"Frequency\")\n"
      ],
      "metadata": {
        "colab": {
          "base_uri": "https://localhost:8080/",
          "height": 296
        },
        "id": "Z6tNHJ8PbWcl",
        "outputId": "db10990b-2502-452a-f453-30fa5b2cf964"
      },
      "execution_count": null,
      "outputs": [
        {
          "output_type": "execute_result",
          "data": {
            "text/plain": [
              "Text(0.5, 0, 'Overall')"
            ]
          },
          "metadata": {},
          "execution_count": 169
        },
        {
          "output_type": "display_data",
          "data": {
            "text/plain": [
              "<Figure size 432x288 with 1 Axes>"
            ],
            "image/png": "[encoded data removed]"
          },
          "metadata": {}
        }
      ]
    },
    {
      "cell_type": "markdown",
      "source": [
        "**2- ¿Cómo conviene invertir  dinero en cartas, comprar jugadores mas jovenes o jugadores con mejor media?**\n",
        "\n",
        "Podemos ver que a medida que los jugadores son mas jovenes, el potencial es mayor que su media actual, eso es porque tienen condiciones aun no desarolladas que los van llevar a subir su media actual. Por ende deberian comprar alguna carta con un potencial grande a desarollar y asegurarse que en un futuro no tendran que desembolsar mucho dinero para poder comprar esa carta con la media llegando a su potencial."
      ],
      "metadata": {
        "id": "vhK2OdF2M0sM"
      }
    },
    {
      "cell_type": "code",
      "source": [
        "x = df[(\"age\")]\n",
        "y = df[(\"overall\")]\n",
        "y1= df[(\"potential\")]\n",
        "width = 0.60\n",
        "plt.bar(x-0.3, y, width, color= \"orange\")\n",
        "plt.bar(x+0.3, y1,width, color=\"blue\")\n",
        "plt.xlabel(\"Age\")\n",
        "plt.ylabel(\"Overall, Potential\")\n",
        "plt.title(\"Age vs. Overall vs Potential\", fontsize=20, verticalalignment='bottom');\n",
        "plt.legend([\"Overall\", \"Potential\"])\n",
        "plt.show()"
      ],
      "metadata": {
        "colab": {
          "base_uri": "https://localhost:8080/",
          "height": 304
        },
        "id": "nqAzi_H6tmNu",
        "outputId": "8b707b4a-ed93-42a1-a69c-a305e8fb464d"
      },
      "execution_count": null,
      "outputs": [
        {
          "output_type": "display_data",
          "data": {
            "text/plain": [
              "<Figure size 432x288 with 1 Axes>"
            ],
            "image/png": "[encoded data removed]"
          },
          "metadata": {
            "needs_background": "light"
          }
        }
      ]
    },
    {
      "cell_type": "code",
      "source": [
        "plt.scatter(df['age'],df[\"potential\"])\n",
        "plt.title(\"Age vs. Potential\", fontsize=20, verticalalignment='bottom');\n",
        "plt.xlabel(\"Age\");\n",
        "plt.ylabel(\"Potential\");"
      ],
      "metadata": {
        "colab": {
          "base_uri": "https://localhost:8080/",
          "height": 304
        },
        "id": "ELm2IfHaDD2M",
        "outputId": "0bc7ba23-bf5c-4506-cb0e-d531987cc971"
      },
      "execution_count": null,
      "outputs": [
        {
          "output_type": "display_data",
          "data": {
            "text/plain": [
              "<Figure size 432x288 with 1 Axes>"
            ],
            "image/png": "[encoded data removed]"
          },
          "metadata": {
            "needs_background": "light"
          }
        }
      ]
    },
    {
      "cell_type": "markdown",
      "source": [
        "En el grafico de arriba, vemos que a la misma edad el los valores son mas altos porque es la prediccion a futuro que hace FIFA sobre esos jugadores. Como se van a desarrollar y a que **media** van a llegar. Ahora si vemos el grafico de abajo que es el actual, es decir la media que tienen los jugadores hoy en día, los valores son mas bajos, eso se debe a que aún no se han desarrollado al máximo."
      ],
      "metadata": {
        "id": "rwwSAnforOGj"
      }
    },
    {
      "cell_type": "code",
      "source": [
        "plt.scatter(df['age'],df[\"overall\"])\n",
        "plt.title(\"Age vs. Overall\", fontsize=20, verticalalignment='bottom');\n",
        "plt.xlabel(\"Age\");\n",
        "plt.ylabel(\"Overall\");"
      ],
      "metadata": {
        "colab": {
          "base_uri": "https://localhost:8080/",
          "height": 304
        },
        "id": "TK-TRsN7lpYs",
        "outputId": "e6334e4d-040b-49ef-938b-67b2235abfe2"
      },
      "execution_count": null,
      "outputs": [
        {
          "output_type": "display_data",
          "data": {
            "text/plain": [
              "<Figure size 432x288 with 1 Axes>"
            ],
            "image/png": "[encoded data removed]"
          },
          "metadata": {
            "needs_background": "light"
          }
        }
      ]
    },
    {
      "cell_type": "markdown",
      "source": [
        "**3- ¿Que es mas costoso, un jugador joven, o un jugador de media actual elevada?**\n",
        "\n",
        "Podemos observar que las cartas con mayores media (overall), son mas costosas, eso se debe a que a medida que el jugador tiene mejor media es mejor jugador, por ende cuesta más adquirirlo. Aun asi podemos concluir, que los jugadores que son mas jovenes cuestan mas, debido a que aun tienen potencial que explotar. A las empresas les  conveniene hacer un gran esfuerzo y adquirir algunas cartas de esos costos, porque en un futuro podrian venderla y hacer un gran negocio cuando esten llegando a su top de media."
      ],
      "metadata": {
        "id": "ioENYpHyHvdH"
      }
    },
    {
      "cell_type": "code",
      "source": [
        "# \"Overall vs Value Euro\"\n",
        "plt.figure(figsize=(15,6))\n",
        "plt.subplot(121)\n",
        "plt.bar(df['overall'],df[\"value_eur\"])\n",
        "plt.title(\"Overall vs Value Euro\", fontsize=20, verticalalignment='bottom');\n",
        "plt.xlabel(\"Overall\");\n",
        "plt.ylabel(\"Value Euro\");\n",
        "\n",
        "# \"Age vs Value Euro\"\n",
        "plt.figure(figsize=(15,6))\n",
        "plt.subplot(122)\n",
        "plt.bar(df['age'],df[\"value_eur\"])\n",
        "plt.title(\"Age vs Value Euro\", fontsize=20, verticalalignment='bottom');\n",
        "plt.xlabel(\"Age\");\n",
        "plt.ylabel(\"Value Euro\");\n",
        "\n",
        "plt.figure(figsize=(15,6))\n",
        "plt.subplot(122)\n",
        "plt.bar(df['age'],df[\"value_eur\"])\n",
        "plt.bar(df['overall'],df[\"value_eur\"])\n",
        "plt.title(\"Age, Overall vs Value Euro\", fontsize=20, verticalalignment='bottom');\n",
        "plt.xlabel(\"Age, Overall\");\n",
        "plt.ylabel(\"Value Euro\");\n",
        "\n"
      ],
      "metadata": {
        "id": "BdfPKBlHDmWD",
        "colab": {
          "base_uri": "https://localhost:8080/",
          "height": 1000
        },
        "outputId": "734743e4-cc5c-4ee7-e43e-7c59b76e3665"
      },
      "execution_count": null,
      "outputs": [
        {
          "output_type": "display_data",
          "data": {
            "text/plain": [
              "<Figure size 1080x432 with 1 Axes>"
            ],
            "image/png": "[encoded data removed]"
          },
          "metadata": {}
        },
        {
          "output_type": "display_data",
          "data": {
            "text/plain": [
              "<Figure size 1080x432 with 1 Axes>"
            ],
            "image/png": "[encoded data removed]"
          },
          "metadata": {}
        },
        {
          "output_type": "display_data",
          "data": {
            "text/plain": [
              "<Figure size 1080x432 with 1 Axes>"
            ],
            "image/png": "[encoded data removed]"
          },
          "metadata": {}
        }
      ]
    },
    {
      "cell_type": "code",
      "source": [
        "df= pd.read_csv(\"players_22.csv\")\n",
        "df1 = pd.DataFrame({'count': df.groupby(['nationality_name', 'overall']).size()})\n",
        "df1\n",
        "df1 = df1.reset_index()\n",
        "df1.head(30)"
      ],
      "metadata": {
        "id": "yUIQ12aTgmf6"
      },
      "execution_count": null,
      "outputs": []
    },
    {
      "cell_type": "markdown",
      "source": [
        "**4-¿Cuál es el pie predominante entre los jugadores?**\n",
        "\n",
        "Sin duda que la mayoria de los jugadores son fuerte con su pierna derecha. \n",
        "\n"
      ],
      "metadata": {
        "id": "hnZDaHbJLYfm"
      }
    },
    {
      "cell_type": "code",
      "source": [
        "df.groupby(['preferred_foot']).count()[['sofifa_id']]"
      ],
      "metadata": {
        "id": "dHBbdHpnyE2t"
      },
      "execution_count": null,
      "outputs": []
    },
    {
      "cell_type": "code",
      "source": [
        "\n",
        "preferred_foot_labels = df[\"preferred_foot\"].value_counts().index \n",
        "preferred_foot_values = df[\"preferred_foot\"].value_counts().values \n",
        "explode = (0, 0.1) \n",
        "\n",
        "plt.figure(figsize = (7,7))\n",
        "plt.pie(preferred_foot_values, labels=preferred_foot_labels,autopct='%1.2f%%')\n",
        "plt.title('Pie predominante entre los jugadores de FIFA',color = 'black',fontsize = 15)\n",
        "plt.legend()\n",
        "plt.show()"
      ],
      "metadata": {
        "id": "ofuMWdKyychF"
      },
      "execution_count": null,
      "outputs": []
    },
    {
      "cell_type": "markdown",
      "source": [
        "**5- ¿Cuáles son los países con mayor representación en los datos?**\n",
        "\n",
        "Podemos obvservar que los paises con mayor aportes de datos (jugadores) en FIFA son:\n",
        "\n",
        "\n",
        "1° Inglaterra\n",
        "\n",
        "2° Alemania\n",
        "\n",
        "3° España\n",
        "\n",
        "4° Francia\n",
        "\n",
        "5° Argentina\n",
        "\n"
      ],
      "metadata": {
        "id": "_AH8H8dFzJqT"
      }
    },
    {
      "cell_type": "code",
      "source": [
        "df['nationality_name'].value_counts()"
      ],
      "metadata": {
        "id": "7fOaBpq0zKtV"
      },
      "execution_count": null,
      "outputs": []
    },
    {
      "cell_type": "code",
      "source": [
        "from collections import Counter\n",
        "bar_plot = dict(Counter(df['nationality_name'].values).most_common(5))\n",
        "bar_plot"
      ],
      "metadata": {
        "id": "7hBLLWv-zSu1"
      },
      "execution_count": null,
      "outputs": []
    },
    {
      "cell_type": "code",
      "source": [
        "fig, ax = plt.subplots(figsize = (8,5))\n",
        "plt.bar(*zip(*bar_plot.items()))\n",
        "ax.set_title('Paises mas Populares')\n",
        "plt.show()"
      ],
      "metadata": {
        "id": "V5qADaAjztAd"
      },
      "execution_count": null,
      "outputs": []
    },
    {
      "cell_type": "markdown",
      "source": [
        "**6- ¿Cuáles son las posiciones de jugador más comunes?**\n",
        "\n",
        "La mayoría de los jugadores de fútbol son centrales/defensores centrales. Lo que va  ser que cueste menos conseguir defensores que delanteros o medio campistas, esto afecta a la hora de invertir dinero, ya que es mas barato siempre comprar defensores que delanteros."
      ],
      "metadata": {
        "id": "-QvGmGO000kn"
      }
    },
    {
      "cell_type": "code",
      "source": [
        "def plot_most_common(category):\n",
        "    bar_plot = dict(Counter(df[category].values).most_common(5))\n",
        "    plt.bar(*zip(*bar_plot.items()), color= \"Red\")\n",
        "    plt.show()"
      ],
      "metadata": {
        "id": "uHCRMkS01CLP"
      },
      "execution_count": null,
      "outputs": []
    },
    {
      "cell_type": "code",
      "source": [
        "fig, ax = plt.subplots(figsize = (8,5))\n",
        "plot_most_common('player_positions')\n",
        "plt.show()"
      ],
      "metadata": {
        "id": "dR2pNHUL1FAs"
      },
      "execution_count": null,
      "outputs": []
    },
    {
      "cell_type": "markdown",
      "source": [
        "**7- ¿Quiénes son los jugadores mejor pagados?**\n",
        "\n",
        "A la hora de conseguir un jugaor, no solo hay que tener en cuenta su el valor de su pase (asi se llama en el futbol, al precio que tiene adquirir al jugador cuando juega en otro equipo y queremos traerlo al nuestro) si no que tambien el sueldo, hay que motivarlo y ofrecer algo mejor de lo que le pagan hasta el momento, por lo tanto ahora veremos quienes son los jugadores mejores pagos, para saber que monto deberiamos estar dispuestos a desembolsar si quisieramos seducir alguno de estos jugadores y traerlos a nuestro equipo. Ademas podemos ver que los jugadores con mejor media, se les paga mucho mas."
      ],
      "metadata": {
        "id": "GxYFWnoL2FP4"
      }
    },
    {
      "cell_type": "code",
      "source": [
        "# Los 10 mejores jugadores, ordenados principalmente por salarios\n",
        "\n",
        "player_name = df[['wage_eur','short_name',\n",
        "                  'value_eur','overall','age',\n",
        "                  'nationality_name','potential',\n",
        "                  'international_reputation']].nlargest(10,['wage_eur']).set_index('short_name')\n",
        "player_name"
      ],
      "metadata": {
        "id": "kjzqnwjg2s1K"
      },
      "execution_count": null,
      "outputs": []
    },
    {
      "cell_type": "markdown",
      "source": [
        "**8- ¿Quiénes son los mejores jugadores en general?**\n",
        "\n",
        "Si la empresa quiere ser unas de las mejores compitiendo, tiene que lograr tener los mejores jugadores en cada posicion, ahora veremos quienes son los mejores 50 jugadores, y apartir de ahi la empresa podra ver que jugador los convence para desmbolsar el dinero correspondiente y poder contar con el jugador."
      ],
      "metadata": {
        "id": "0pjxHjZ-3lSQ"
      }
    },
    {
      "cell_type": "code",
      "source": [
        "from numpy.ma import median\n",
        "# Los 50 mejores jugadores\n",
        "\n",
        "media = df[\"overall\"]\n",
        "nombre_jugador = df[\"short_name\"]\n",
        "\n",
        "data = pd.DataFrame({'short_name': nombre_jugador,'overall':media})\n",
        "\n",
        "x = df['short_name'].head(50) \n",
        "y = df['overall'].head(50)\n",
        "\n",
        "plt.figure(figsize=(13,20))\n",
        "\n",
        "\n",
        "ax= sns.barplot(x=y, y=x, palette = 'Blues_r', orient='h')\n",
        "plt.xticks()\n",
        "plt.xlabel('Media', size = 20) \n",
        "plt.ylabel('Nombre del Jugador', size = 20 ) \n",
        "plt.title('FIFA22 Top 50 (Rating de Media)')\n",
        "\n",
        "plt.show()"
      ],
      "metadata": {
        "id": "93zgYNTg4AhA"
      },
      "execution_count": null,
      "outputs": []
    },
    {
      "cell_type": "markdown",
      "source": [
        "## Algoritmo De Regresion OLS"
      ],
      "metadata": {
        "id": "sE54ZaOYvsLS"
      }
    },
    {
      "cell_type": "code",
      "source": [
        "import numpy as np\n",
        "import pandas as pd\n",
        "import math\n",
        "import matplotlib.pyplot as plt\n",
        "import seaborn as sns\n",
        "import statsmodels.formula.api as sm\n",
        "import warnings\n",
        "warnings.filterwarnings('ignore')"
      ],
      "metadata": {
        "id": "CFBxs9y1v24s"
      },
      "execution_count": null,
      "outputs": []
    },
    {
      "cell_type": "code",
      "source": [
        "edad = df[\"age\"]\n",
        "media = df[\"overall\"]\n",
        "potencial = df[\"potential\"]\n",
        "valor_en_euro= df[\"value_eur\"]\n",
        "salario = df[\"wage_eur\"]\n",
        "\n",
        "data = pd.DataFrame({\"age\":edad, 'overall':media, \"potential\":potencial, \"value_eur\":valor_en_euro, \"wage_eur\":salario})\n",
        "\n",
        "data.head(10)"
      ],
      "metadata": {
        "id": "F7rujCXRzyZ0"
      },
      "execution_count": null,
      "outputs": []
    },
    {
      "cell_type": "code",
      "source": [
        "sns.set(style='ticks', color_codes=True)\n",
        "Visual = sns.pairplot(data)"
      ],
      "metadata": {
        "id": "MnVUUCi-wats"
      },
      "execution_count": null,
      "outputs": []
    },
    {
      "cell_type": "markdown",
      "source": [
        "# overall= 64.3309+5.014*value_eur\n",
        "\n",
        "\n",
        "64.33 ordenada al origen, si el valor del jugador fuera menos que 0, es decir estubiera en condiciones de jugador libre.\n",
        "\n",
        "\n",
        "Por cada 1 euro que aumenta el valor del jugador, aumenta un porcentaje casi nulo, en la media del jugador, habria que aumentar mucho el valor en euros para que su media aumente mucho tambien. Es decir podemos ver que es proporcional pero se necesita de un aumento muy grande en el **valor en euro** para mover su **media**."
      ],
      "metadata": {
        "id": "fhsUlGA48qIE"
      }
    },
    {
      "cell_type": "code",
      "source": [
        "model1 = 'overall~value_eur' \n",
        "lm1   = sm.ols(formula = model1, data = data).fit()\n",
        "print(lm1.summary())\n"
      ],
      "metadata": {
        "id": "7EosUJm13H1o"
      },
      "execution_count": null,
      "outputs": []
    },
    {
      "cell_type": "markdown",
      "source": [
        "# overall= 64.14+0.7283*potential\n",
        "\n",
        "\n",
        "64.14 ordenada al origen, si no tiene potencial a desarollar, queda en 64.14 su media\n",
        "\n",
        "\n",
        "Por cada 1 en atributo que aumenta el potencial del jugador, aumenta un 0.74, en la media del jugador, Esto quiere decir que en algunos jugadores tomara mas tiempo llegar a su media final esperada, porque los atributos aumentan en funcion del tiempo y los entrenamientos. Y algunos jugadores aumentan sus atributos mucho mas rapidos que otros, esos son los que la empresa tiene que tratar de contratar lo antes posible."
      ],
      "metadata": {
        "id": "OTH9Y_7d9KyE"
      }
    },
    {
      "cell_type": "code",
      "source": [
        "model2 = 'overall~potential' \n",
        "lm1   = sm.ols(formula = model1, data = data).fit()\n",
        "print(lm1.summary())"
      ],
      "metadata": {
        "id": "SclXl50P4uzM"
      },
      "execution_count": null,
      "outputs": []
    },
    {
      "cell_type": "markdown",
      "source": [
        "**Comentario:**\n",
        "\n",
        "Ambos modelos de regresion, yo los veo que tienen sentidos, pero veo que no son del todo preciso, de echo ninguno de los dos tienen una precision del mas del 50%. Por lo tanto me gustaria buscar mas precision con mayor conocimiento sobre el tema, y algunas herramientas que me ayuden con esto"
      ],
      "metadata": {
        "id": "Xhnyp9wx-jeT"
      }
    },
    {
      "cell_type": "code",
      "source": [
        "model1 = 'age~potential+overall'\n",
        "lm1   = sm.ols(formula = model1, data = data).fit()\n",
        "print(lm1.summary())"
      ],
      "metadata": {
        "id": "DC944mrO_LK7"
      },
      "execution_count": null,
      "outputs": []
    },
    {
      "cell_type": "markdown",
      "source": [
        "# edad = 29.4556-0.7472* potential+0.7429 *overall\n",
        "\n",
        "La edad del jugador es de 29 el que menos overall y media tiene (si tiene 0 de ambos) esto quiere decir que los jugadores a los 29, dejan de aumentar su media. Su Potencial llega al maximo a esa edad aproximadamente, eso es logico porque los jugadores generalmente se retiran entre los 33 y 36 años.\n",
        "\n",
        "Y ademas la funcion nos demuestra que a medidad que disminuye el potencial, aumenta la media, es logico porque el potencial va siendo cada vez menos a medida que la media aumenta debido a que la media consume ese potencial."
      ],
      "metadata": {
        "id": "LhSNykF-ANBU"
      }
    },
    {
      "cell_type": "markdown",
      "source": [
        "Mateo, me falta lo de\n",
        "\n",
        "por medio de las métricas generadas si se puede tener una situación de overfitting (sobreajuste) o underfitting (subajuste), discutiendo posibles formas de mejora.\n",
        "\n",
        "No puedo hacerlo porque no se como crear la matriz de train y test con mis datos, ya que algunos son Nan, y no se como sacarlos. \n",
        "\n",
        "Por favor si podrias ayudarme. Gracias y saludos codrdiales.\n",
        "\n"
      ],
      "metadata": {
        "id": "vhu8NYIrxU3e"
      }
    }
  ]
}